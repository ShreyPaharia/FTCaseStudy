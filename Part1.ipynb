{
 "cells": [
  {
   "cell_type": "markdown",
   "metadata": {},
   "source": [
    "# Solana Network Analysis\n",
    "\n",
    "This notebook analyzes various aspects of the Solana network, addressing the following questions:\n",
    "\n",
    "1. What is the current validator count?\n",
    "2. What is the average block time for 25 blocks from a recent epoch?\n",
    "3. What is the average block time for 25 blocks from an epoch in 2022?\n",
    "4. What is the current real yield earned by a staker?\n",
    "\n",
    "We'll use the Solana RPC API to fetch this data and perform our calculations."
   ]
  },
  {
   "cell_type": "code",
   "execution_count": 1,
   "metadata": {},
   "outputs": [],
   "source": [
    "import time\n",
    "from solders.pubkey import Pubkey\n",
    "from solders.signature import Signature\n",
    "from solana.rpc.async_api import AsyncClient\n",
    "from solana.rpc.commitment import Confirmed\n",
    "from solana.rpc.core import RPCException\n",
    "import asyncio\n",
    "from datetime import datetime\n",
    "\n",
    "# Define the API endpoint as a constant\n",
    "API_ENDPOINT = \"https://greatest-autumn-silence.solana-mainnet.quiknode.pro/44f458e9cc436b5174516aaa2830e1f02b525aa2\""
   ]
  },
  {
   "cell_type": "markdown",
   "metadata": {},
   "source": [
    "## 1. Current Validator Count\n",
    "\n",
    "It uses the `get_vote_accounts()` method from the Solana RPC API to retrieve this information.\n",
    "\n",
    "The validator count is broken down into three categories:\n",
    "1. Current: The number of validators currently participating in consensus.\n",
    "2. Delinquent: The number of validators that are not actively participating (e.g., offline or not up-to-date).\n",
    "3. Total: The sum of current and delinquent validators.\n",
    "\n"
   ]
  },
  {
   "cell_type": "code",
   "execution_count": 2,
   "metadata": {},
   "outputs": [
    {
     "name": "stdout",
     "output_type": "stream",
     "text": [
      "Validator count: {'current': 1378, 'delinquent': 50, 'total': 1428}\n"
     ]
    }
   ],
   "source": [
    "async def get_validator_count():\n",
    "    async with AsyncClient(API_ENDPOINT) as client:\n",
    "        response = await client.get_vote_accounts()\n",
    "        return {\n",
    "            \"current\": len(response.value.current),\n",
    "            \"delinquent\": len(response.value.delinquent),\n",
    "            \"total\": len(response.value.current) + len(response.value.delinquent)\n",
    "        }\n",
    "\n",
    "# Fetch and print validator count\n",
    "validator_count = await get_validator_count()\n",
    "print(f\"Validator count: {validator_count}\")"
   ]
  },
  {
   "cell_type": "markdown",
   "metadata": {},
   "source": [
    "## 2. Average Block Time for Recent Blocks\n",
    "\n",
    "The following function calculates the average block time for a specified number of recent blocks.\n",
    "It handles potential RPC exceptions and accounts for skipped blocks in the calculation.\n",
    "\n",
    "Here's how it works:\n",
    "\n",
    "1. If no start slot is provided, it fetches the latest blockhash to get the most recent block height.\n",
    "2. It then iterates backwards from this slot, fetching block times for each slot.\n",
    "3. If a block is missing or there's an RPC exception:\n",
    "   - It increments a 'failed_attempts' counter\n",
    "   - Moves to the next slot\n",
    "4. It continues until it has collected enough valid block times (num_blocks + 1 + failed_attempts).\n",
    "5. The function then sorts the collected slots and calculates time differences only for consecutive blocks.\n",
    "6. Finally, it computes the average of these time differences to get the average block time.\n",
    "\n",
    "This approach ensures that:\n",
    "- Skipped blocks don't affect the average calculation\n",
    "- We have enough data points even if some blocks are missing or inaccessible\n",
    "- RPC exceptions are handled gracefully without interrupting the overall process\n",
    "\n",
    "\n"
   ]
  },
  {
   "cell_type": "code",
   "execution_count": 3,
   "metadata": {},
   "outputs": [
    {
     "name": "stdout",
     "output_type": "stream",
     "text": [
      "Average block time (recent epoch): 0.44 seconds\n",
      "Average block time (2022 epoch): 0.56 seconds\n"
     ]
    }
   ],
   "source": [
    "async def get_blocks_and_average_time(num_blocks, start_slot=None):\n",
    "    async with AsyncClient(API_ENDPOINT) as client:\n",
    "        if start_slot is None:\n",
    "            recent_blockhash = await client.get_latest_blockhash()\n",
    "            start_slot = recent_blockhash.value.last_valid_block_height\n",
    "        \n",
    "        slot_to_timestamp = {}\n",
    "        slot = start_slot\n",
    "        failed_attempts = 0\n",
    "\n",
    "        while len(slot_to_timestamp) < num_blocks + 1 + failed_attempts:\n",
    "            try:\n",
    "                timestampResponse = await client.get_block_time(slot)\n",
    "                if timestampResponse.value is not None:\n",
    "                    slot_to_timestamp[slot] = timestampResponse.value\n",
    "                else:\n",
    "                    failed_attempts += 1\n",
    "                slot -= 1\n",
    "            except RPCException as e:\n",
    "                if \"skipped, or missing in long-term storage\" in str(e):\n",
    "                    failed_attempts += 1\n",
    "                    slot -= 1  # Try the next slot\n",
    "                else:\n",
    "                    raise  # Re-raise if it's a different kind of error\n",
    "\n",
    "        if len(slot_to_timestamp) < num_blocks + 1:\n",
    "            raise ValueError(f\"Could not fetch enough valid blocks. Only got {len(slot_to_timestamp)} slots.\")\n",
    "\n",
    "        # Sort slots in descending order (newest to oldest)\n",
    "        sorted_slots = sorted(slot_to_timestamp.keys(), reverse=True)\n",
    "\n",
    "        # Calculate time differences, skipping when blocks are missing\n",
    "        time_diffs = []\n",
    "        for i in range(len(sorted_slots) - 1):\n",
    "            if sorted_slots[i] - sorted_slots[i+1] == 1:  # Check if blocks are consecutive\n",
    "                time_diff = slot_to_timestamp[sorted_slots[i]] - slot_to_timestamp[sorted_slots[i+1]]\n",
    "                time_diffs.append(time_diff)\n",
    "            \n",
    "            if len(time_diffs) == num_blocks:\n",
    "                break\n",
    "\n",
    "        if len(time_diffs) < num_blocks:\n",
    "            raise ValueError(f\"Could not calculate enough valid time differences. Only got {len(time_diffs)} differences.\")\n",
    "\n",
    "        avg_block_time = sum(time_diffs) / len(time_diffs)\n",
    "        \n",
    "        return avg_block_time\n",
    "\n",
    "# Calculate average block time for recent epoch\n",
    "try:\n",
    "    recent_avg_block_time = await get_blocks_and_average_time(25)\n",
    "    print(f\"Average block time (recent epoch): {recent_avg_block_time:.2f} seconds\")\n",
    "except Exception as e:\n",
    "    print(f\"Error calculating recent average block time: {e}\")\n",
    "\n",
    "# Calculate average block time for epoch in 2022\n",
    "slot_2022 = 120000000  # This is an approximate slot number for an epoch in 2022\n",
    "try:\n",
    "    avg_block_time_2022 = await get_blocks_and_average_time(25, slot_2022)\n",
    "    print(f\"Average block time (2022 epoch): {avg_block_time_2022:.2f} seconds\")\n",
    "except Exception as e:\n",
    "    print(f\"Error calculating 2022 average block time: {e}\")"
   ]
  },
  {
   "cell_type": "markdown",
   "metadata": {},
   "source": [
    "# Calculating Nominal and Real Yield\n",
    "\n",
    "In the following cells, we'll calculate the nominal yield and then convert it to real yield. We'll also calculate historical inflation rates and real yields for comparison.\n",
    "\n",
    "## Nominal Yield Calculation\n",
    "\n",
    "The `estimate_real_yield` function calculates the nominal yield using the following formula:\n",
    "\n",
    "nominal_yield = inflation_rate * (target_slot_time / actual_slot_time) / staked_ratio\n",
    "\n",
    "Where:\n",
    "- inflation_rate: The current inflation rate of Solana\n",
    "- target_slot_time: Solana's target slot time (0.4 seconds)\n",
    "- actual_slot_time: The actual average slot time we calculated earlier\n",
    "- staked_ratio: The proportion of total supply that is staked\n",
    "\n",
    "## Real Yield Calculation\n",
    "\n",
    "The real yield is then calculated by adjusting the nominal yield for inflation:\n",
    "\n",
    "real_yield = (1 + nominal_yield) / (1 + inflation_rate) - 1\n",
    "\n",
    "This gives us the yield in real terms, accounting for the effects of inflation.\n",
    "\n",
    "## Historical Calculations\n",
    "\n",
    "We'll also calculate the historical inflation rate and real yield for 2022:\n",
    "\n",
    "1. We use the disinflation rate to estimate the inflation rate in 2022.\n",
    "2. We assume a staked ratio of 60% for 2022.\n",
    "3. We use the block time from 2022 that we calculated earlier.\n",
    "\n",
    "These calculations allow us to compare current yields with historical yields and understand how they've changed over time.\n"
   ]
  },
  {
   "cell_type": "code",
   "execution_count": 23,
   "metadata": {},
   "outputs": [],
   "source": [
    "def estimate_real_yield(inflation_rate, staked_ratio, avg_slot_time):\n",
    "    est = 0.4  # Solana's target slot time\n",
    "    nominal_yield = inflation_rate * est / avg_slot_time / staked_ratio\n",
    "    real_yield = 1 + nominal_yield / (1 + inflation_rate) - 1\n",
    "    return real_yield"
   ]
  },
  {
   "cell_type": "code",
   "execution_count": 26,
   "metadata": {},
   "outputs": [
    {
     "name": "stdout",
     "output_type": "stream",
     "text": [
      "Real Yield: 6.6391%\n"
     ]
    }
   ],
   "source": [
    "async with AsyncClient(API_ENDPOINT) as client:\n",
    "    # Get staked and total supply\n",
    "    supply_response = await client.get_supply()\n",
    "    total_circulating_supply = supply_response.value.circulating/1000000000\n",
    "\n",
    "    # Get inflation rate\n",
    "    inflation_rate_response = await client.get_inflation_rate()\n",
    "    inflation_per_annum = inflation_rate_response.value.total\n",
    "\n",
    "staked_supply = 306.9 * 10**6\n",
    "staked_ratio = staked_supply / total_circulating_supply\n",
    "\n",
    "# Get average slot time over last 25 blocks\n",
    "stAvg = recent_avg_block_time \n",
    "# Calculate real yield\n",
    "real_yield = estimate_real_yield(inflation_per_annum, staked_ratio, stAvg)\n",
    "\n",
    "print(f\"Real Yield: {real_yield*100:.4f}%\")\n"
   ]
  },
  {
   "cell_type": "code",
   "execution_count": 38,
   "metadata": {},
   "outputs": [
    {
     "name": "stdout",
     "output_type": "stream",
     "text": [
      "Historical Real Yield 2022: 8.6194%\n"
     ]
    }
   ],
   "source": [
    "async with AsyncClient(API_ENDPOINT) as client:\n",
    "    # Get staked and total supply\n",
    "    supply_response = await client.get_inflation_governor()\n",
    "    disinflation_rate = supply_response.value.taper\n",
    "    \n",
    "    block_time_2022 = await client.get_block_time(120000000)\n",
    "\n",
    "today = datetime.now()\n",
    "# calculate the inflation_rate_per_annum_2022 basis disinflation_rate and time difference between today and 2022\n",
    "time_diff = today - datetime(2022, 1, 1)\n",
    "inflation_rate_per_annum_2022 = inflation_per_annum / ((1-disinflation_rate) ** (time_diff.days / 365))\n",
    "\n",
    "# assuming the staked ratio was about 60% in 2022\n",
    "staked_ratio_2022 = 0.6\n",
    "avg_slot_time_2022 = avg_block_time_2022\n",
    "\n",
    "historical_real_yield = estimate_real_yield(inflation_rate_per_annum_2022, staked_ratio_2022, avg_slot_time_2022)\n",
    "print(f\"Historical Real Yield 2022: {historical_real_yield*100:.4f}%\")"
   ]
  },
  {
   "cell_type": "markdown",
   "metadata": {},
   "source": [
    "## Conclusion\n",
    "\n",
    "This notebook has addressed the following questions about the Solana network:\n",
    "\n",
    "1. We've fetched the current validator count, including active and delinquent validators.\n",
    "2. We've calculated the average block time for 25 blocks from a recent epoch.\n",
    "3. We've calculated the average block time for 25 blocks from an epoch in 2022.\n",
    "4. We've estimated the current real yield earned by a native staker.\n",
    "\n",
    "Note that the real yield calculation is a simplified estimate and doesn't include factors such as validator commission fees or potential slashing events. For a more accurate historical real yield, you would need to incorporate historical data for inflation rates, staking ratios, and actual validator performance over time.\n",
    "\n",
    "This analysis provides insights into the current state of the Solana network and how some key metrics have changed over time. It can be useful for understanding network performance and potential staking returns."
   ]
  }
 ],
 "metadata": {
  "kernelspec": {
   "display_name": "Python 3",
   "language": "python",
   "name": "python3"
  },
  "language_info": {
   "codemirror_mode": {
    "name": "ipython",
    "version": 3
   },
   "file_extension": ".py",
   "mimetype": "text/x-python",
   "name": "python",
   "nbconvert_exporter": "python",
   "pygments_lexer": "ipython3",
   "version": "3.12.2"
  }
 },
 "nbformat": 4,
 "nbformat_minor": 4
}
